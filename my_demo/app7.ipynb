{
 "cells": [
  {
   "cell_type": "code",
   "execution_count": 4,
   "metadata": {},
   "outputs": [],
   "source": [
    "import os\n",
    "import pathlib\n",
    "import pandas as pd"
   ]
  },
  {
   "cell_type": "code",
   "execution_count": 6,
   "metadata": {},
   "outputs": [
    {
     "name": "stdout",
     "output_type": "stream",
     "text": [
      "c:\\Users\\HP\\Desktop\\dashboard_demo\\my_demo\n"
     ]
    }
   ],
   "source": [
    "path = os.getcwd()\n",
    "print(path)"
   ]
  },
  {
   "cell_type": "code",
   "execution_count": 7,
   "metadata": {},
   "outputs": [],
   "source": [
    "df = pd.read_csv(os.path.join(path, os.path.join('data', 'spc_data.csv')))"
   ]
  },
  {
   "cell_type": "code",
   "execution_count": 11,
   "metadata": {},
   "outputs": [
    {
     "data": {
      "text/html": [
       "<div>\n",
       "<style scoped>\n",
       "    .dataframe tbody tr th:only-of-type {\n",
       "        vertical-align: middle;\n",
       "    }\n",
       "\n",
       "    .dataframe tbody tr th {\n",
       "        vertical-align: top;\n",
       "    }\n",
       "\n",
       "    .dataframe thead th {\n",
       "        text-align: right;\n",
       "    }\n",
       "</style>\n",
       "<table border=\"1\" class=\"dataframe\">\n",
       "  <thead>\n",
       "    <tr style=\"text-align: right;\">\n",
       "      <th></th>\n",
       "      <th>Batch</th>\n",
       "      <th>Diameter</th>\n",
       "      <th>Etch1</th>\n",
       "      <th>Film-Thickness</th>\n",
       "      <th>Etch2</th>\n",
       "      <th>Line-Width</th>\n",
       "      <th>Overlay</th>\n",
       "      <th>Volume</th>\n",
       "    </tr>\n",
       "  </thead>\n",
       "  <tbody>\n",
       "    <tr>\n",
       "      <th>0</th>\n",
       "      <td>1</td>\n",
       "      <td>0.429</td>\n",
       "      <td>0.43025</td>\n",
       "      <td>49512</td>\n",
       "      <td>308.75</td>\n",
       "      <td>810</td>\n",
       "      <td>1759</td>\n",
       "      <td>315.5</td>\n",
       "    </tr>\n",
       "    <tr>\n",
       "      <th>1</th>\n",
       "      <td>2</td>\n",
       "      <td>0.421</td>\n",
       "      <td>0.43300</td>\n",
       "      <td>47101</td>\n",
       "      <td>306.75</td>\n",
       "      <td>824</td>\n",
       "      <td>1746</td>\n",
       "      <td>305.5</td>\n",
       "    </tr>\n",
       "    <tr>\n",
       "      <th>2</th>\n",
       "      <td>3</td>\n",
       "      <td>0.417</td>\n",
       "      <td>0.42850</td>\n",
       "      <td>60023</td>\n",
       "      <td>311.75</td>\n",
       "      <td>765</td>\n",
       "      <td>1482</td>\n",
       "      <td>330.5</td>\n",
       "    </tr>\n",
       "    <tr>\n",
       "      <th>3</th>\n",
       "      <td>4</td>\n",
       "      <td>0.421</td>\n",
       "      <td>0.43775</td>\n",
       "      <td>55428</td>\n",
       "      <td>322.75</td>\n",
       "      <td>933</td>\n",
       "      <td>1857</td>\n",
       "      <td>319.5</td>\n",
       "    </tr>\n",
       "    <tr>\n",
       "      <th>4</th>\n",
       "      <td>5</td>\n",
       "      <td>0.421</td>\n",
       "      <td>0.41725</td>\n",
       "      <td>46442</td>\n",
       "      <td>312.50</td>\n",
       "      <td>686</td>\n",
       "      <td>1844</td>\n",
       "      <td>323.5</td>\n",
       "    </tr>\n",
       "    <tr>\n",
       "      <th>...</th>\n",
       "      <td>...</td>\n",
       "      <td>...</td>\n",
       "      <td>...</td>\n",
       "      <td>...</td>\n",
       "      <td>...</td>\n",
       "      <td>...</td>\n",
       "      <td>...</td>\n",
       "      <td>...</td>\n",
       "    </tr>\n",
       "    <tr>\n",
       "      <th>648</th>\n",
       "      <td>649</td>\n",
       "      <td>0.425</td>\n",
       "      <td>0.46625</td>\n",
       "      <td>50139</td>\n",
       "      <td>314.25</td>\n",
       "      <td>910</td>\n",
       "      <td>1561</td>\n",
       "      <td>304.0</td>\n",
       "    </tr>\n",
       "    <tr>\n",
       "      <th>649</th>\n",
       "      <td>650</td>\n",
       "      <td>0.421</td>\n",
       "      <td>0.43200</td>\n",
       "      <td>51747</td>\n",
       "      <td>312.75</td>\n",
       "      <td>872</td>\n",
       "      <td>1549</td>\n",
       "      <td>317.5</td>\n",
       "    </tr>\n",
       "    <tr>\n",
       "      <th>650</th>\n",
       "      <td>651</td>\n",
       "      <td>0.421</td>\n",
       "      <td>0.42400</td>\n",
       "      <td>42278</td>\n",
       "      <td>307.25</td>\n",
       "      <td>854</td>\n",
       "      <td>1433</td>\n",
       "      <td>304.0</td>\n",
       "    </tr>\n",
       "    <tr>\n",
       "      <th>651</th>\n",
       "      <td>652</td>\n",
       "      <td>0.429</td>\n",
       "      <td>0.44425</td>\n",
       "      <td>50548</td>\n",
       "      <td>311.75</td>\n",
       "      <td>864</td>\n",
       "      <td>1496</td>\n",
       "      <td>313.0</td>\n",
       "    </tr>\n",
       "    <tr>\n",
       "      <th>652</th>\n",
       "      <td>653</td>\n",
       "      <td>0.421</td>\n",
       "      <td>0.42675</td>\n",
       "      <td>42970</td>\n",
       "      <td>294.25</td>\n",
       "      <td>770</td>\n",
       "      <td>1354</td>\n",
       "      <td>287.5</td>\n",
       "    </tr>\n",
       "  </tbody>\n",
       "</table>\n",
       "<p>653 rows × 8 columns</p>\n",
       "</div>"
      ],
      "text/plain": [
       "     Batch  Diameter    Etch1  Film-Thickness   Etch2  Line-Width  Overlay  \\\n",
       "0        1     0.429  0.43025           49512  308.75         810     1759   \n",
       "1        2     0.421  0.43300           47101  306.75         824     1746   \n",
       "2        3     0.417  0.42850           60023  311.75         765     1482   \n",
       "3        4     0.421  0.43775           55428  322.75         933     1857   \n",
       "4        5     0.421  0.41725           46442  312.50         686     1844   \n",
       "..     ...       ...      ...             ...     ...         ...      ...   \n",
       "648    649     0.425  0.46625           50139  314.25         910     1561   \n",
       "649    650     0.421  0.43200           51747  312.75         872     1549   \n",
       "650    651     0.421  0.42400           42278  307.25         854     1433   \n",
       "651    652     0.429  0.44425           50548  311.75         864     1496   \n",
       "652    653     0.421  0.42675           42970  294.25         770     1354   \n",
       "\n",
       "     Volume  \n",
       "0     315.5  \n",
       "1     305.5  \n",
       "2     330.5  \n",
       "3     319.5  \n",
       "4     323.5  \n",
       "..      ...  \n",
       "648   304.0  \n",
       "649   317.5  \n",
       "650   304.0  \n",
       "651   313.0  \n",
       "652   287.5  \n",
       "\n",
       "[653 rows x 8 columns]"
      ]
     },
     "execution_count": 11,
     "metadata": {},
     "output_type": "execute_result"
    }
   ],
   "source": [
    "df"
   ]
  },
  {
   "cell_type": "code",
   "execution_count": 10,
   "metadata": {},
   "outputs": [
    {
     "data": {
      "text/plain": [
       "['Batch',\n",
       " 'Diameter',\n",
       " 'Etch1',\n",
       " 'Film-Thickness',\n",
       " 'Etch2',\n",
       " 'Line-Width',\n",
       " 'Overlay',\n",
       " 'Volume']"
      ]
     },
     "execution_count": 10,
     "metadata": {},
     "output_type": "execute_result"
    }
   ],
   "source": [
    "list(df[1:])"
   ]
  },
  {
   "cell_type": "code",
   "execution_count": 14,
   "metadata": {},
   "outputs": [
    {
     "data": {
      "text/plain": [
       "327.0"
      ]
     },
     "execution_count": 14,
     "metadata": {},
     "output_type": "execute_result"
    }
   ],
   "source": [
    "df['Batch'].describe()['mean'].tolist()"
   ]
  },
  {
   "cell_type": "code",
   "execution_count": 15,
   "metadata": {},
   "outputs": [
    {
     "data": {
      "text/plain": [
       "['Batch',\n",
       " 'Diameter',\n",
       " 'Etch1',\n",
       " 'Film-Thickness',\n",
       " 'Etch2',\n",
       " 'Line-Width',\n",
       " 'Overlay',\n",
       " 'Volume']"
      ]
     },
     "execution_count": 15,
     "metadata": {},
     "output_type": "execute_result"
    }
   ],
   "source": [
    "list(df)"
   ]
  }
 ],
 "metadata": {
  "kernelspec": {
   "display_name": "Python 3.9.12 ('base')",
   "language": "python",
   "name": "python3"
  },
  "language_info": {
   "codemirror_mode": {
    "name": "ipython",
    "version": 3
   },
   "file_extension": ".py",
   "mimetype": "text/x-python",
   "name": "python",
   "nbconvert_exporter": "python",
   "pygments_lexer": "ipython3",
   "version": "3.9.12"
  },
  "orig_nbformat": 4,
  "vscode": {
   "interpreter": {
    "hash": "dc07d24e2f18896857f0b2a651fe84ba40ce7b297e58d8804a308c8039f752a6"
   }
  }
 },
 "nbformat": 4,
 "nbformat_minor": 2
}
